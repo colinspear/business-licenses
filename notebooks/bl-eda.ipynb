{
 "cells": [
  {
   "source": [
    "# Business license EDA\n",
    "\n",
    "This notebook takes a look at the business license data from the [Vancouver Open Data Portal](https://opendata.vancouver.ca) with an eye to building a model to predict the likelihood of a new business surviving.\n",
    "\n",
    "Extension ideas:\n",
    "\n",
    "* incorporate property tax data"
   ],
   "cell_type": "markdown",
   "metadata": {}
  },
  {
   "cell_type": "code",
   "execution_count": 57,
   "metadata": {},
   "outputs": [],
   "source": [
    "import pandas as pd"
   ]
  },
  {
   "cell_type": "code",
   "execution_count": 58,
   "metadata": {},
   "outputs": [],
   "source": [
    "df = pd.read_csv('../data/2020.11.15-business-licences.csv', sep=';')"
   ]
  },
  {
   "cell_type": "code",
   "execution_count": 59,
   "metadata": {},
   "outputs": [
    {
     "output_type": "execute_result",
     "data": {
      "text/plain": [
       "   FOLDERYEAR  LicenceRSN LicenceNumber  LicenceRevisionNumber  \\\n",
       "0          14     2118891     14-106531                      0   \n",
       "1          14     2118895     14-106535                      0   \n",
       "2          14     2118901     14-106541                      0   \n",
       "3          14     2118906     14-106546                      0   \n",
       "4          14     2118912     14-106552                      0   \n",
       "\n",
       "                      BusinessName BusinessTradeName                Status  \\\n",
       "0              Gill Framing Co Ltd               NaN                Issued   \n",
       "1        ITC Residential BC II Inc               NaN              Inactive   \n",
       "2  Quoc Khanh Nguyen (Quoc Nguyen)  K & H Renovation  Gone Out of Business   \n",
       "3        Evershine Enterprises Ltd               NaN                Issued   \n",
       "4           Zhao Peng Li (Zhao Li)               NaN                Issued   \n",
       "\n",
       "                  IssuedDate ExpiredDate BusinessType  ...   Street  \\\n",
       "0  2013-12-24T12:08:01-08:00  2014-12-31   Contractor  ...      NaN   \n",
       "1  2013-12-04T09:35:13-08:00  2014-12-31   Contractor  ...  HOWE ST   \n",
       "2                        NaN         NaN   Contractor  ...      NaN   \n",
       "3  2014-02-13T14:30:55-08:00  2014-12-31   Contractor  ...      NaN   \n",
       "4  2013-12-13T09:53:14-08:00  2014-12-31   Contractor  ...      NaN   \n",
       "\n",
       "        City Province Country PostalCode                 LocalArea  \\\n",
       "0  Vancouver       BC      CA        NaN  Kensington-Cedar Cottage   \n",
       "1  Vancouver       BC      CA    V6Z 2N1                  Downtown   \n",
       "2  Vancouver       BC      CA        NaN          Hastings-Sunrise   \n",
       "3  Vancouver       BC      CA        NaN                    Sunset   \n",
       "4  Vancouver       BC      CA        NaN  Kensington-Cedar Cottage   \n",
       "\n",
       "  NumberofEmployees FeePaid                ExtractDate  \\\n",
       "0               0.0   159.0  2019-07-21T13:49:10-07:00   \n",
       "1               0.0   159.0  2019-07-21T13:49:10-07:00   \n",
       "2               0.0     NaN  2019-07-21T13:49:10-07:00   \n",
       "3               1.0   199.0  2019-07-21T13:49:10-07:00   \n",
       "4               0.0   159.0  2019-07-21T13:49:10-07:00   \n",
       "\n",
       "                                                Geom  \n",
       "0                                                NaN  \n",
       "1  {\"type\": \"Point\", \"coordinates\": [-123.1320030...  \n",
       "2                                                NaN  \n",
       "3                                                NaN  \n",
       "4                                                NaN  \n",
       "\n",
       "[5 rows x 24 columns]"
      ],
      "text/html": "<div>\n<style scoped>\n    .dataframe tbody tr th:only-of-type {\n        vertical-align: middle;\n    }\n\n    .dataframe tbody tr th {\n        vertical-align: top;\n    }\n\n    .dataframe thead th {\n        text-align: right;\n    }\n</style>\n<table border=\"1\" class=\"dataframe\">\n  <thead>\n    <tr style=\"text-align: right;\">\n      <th></th>\n      <th>FOLDERYEAR</th>\n      <th>LicenceRSN</th>\n      <th>LicenceNumber</th>\n      <th>LicenceRevisionNumber</th>\n      <th>BusinessName</th>\n      <th>BusinessTradeName</th>\n      <th>Status</th>\n      <th>IssuedDate</th>\n      <th>ExpiredDate</th>\n      <th>BusinessType</th>\n      <th>...</th>\n      <th>Street</th>\n      <th>City</th>\n      <th>Province</th>\n      <th>Country</th>\n      <th>PostalCode</th>\n      <th>LocalArea</th>\n      <th>NumberofEmployees</th>\n      <th>FeePaid</th>\n      <th>ExtractDate</th>\n      <th>Geom</th>\n    </tr>\n  </thead>\n  <tbody>\n    <tr>\n      <th>0</th>\n      <td>14</td>\n      <td>2118891</td>\n      <td>14-106531</td>\n      <td>0</td>\n      <td>Gill Framing Co Ltd</td>\n      <td>NaN</td>\n      <td>Issued</td>\n      <td>2013-12-24T12:08:01-08:00</td>\n      <td>2014-12-31</td>\n      <td>Contractor</td>\n      <td>...</td>\n      <td>NaN</td>\n      <td>Vancouver</td>\n      <td>BC</td>\n      <td>CA</td>\n      <td>NaN</td>\n      <td>Kensington-Cedar Cottage</td>\n      <td>0.0</td>\n      <td>159.0</td>\n      <td>2019-07-21T13:49:10-07:00</td>\n      <td>NaN</td>\n    </tr>\n    <tr>\n      <th>1</th>\n      <td>14</td>\n      <td>2118895</td>\n      <td>14-106535</td>\n      <td>0</td>\n      <td>ITC Residential BC II Inc</td>\n      <td>NaN</td>\n      <td>Inactive</td>\n      <td>2013-12-04T09:35:13-08:00</td>\n      <td>2014-12-31</td>\n      <td>Contractor</td>\n      <td>...</td>\n      <td>HOWE ST</td>\n      <td>Vancouver</td>\n      <td>BC</td>\n      <td>CA</td>\n      <td>V6Z 2N1</td>\n      <td>Downtown</td>\n      <td>0.0</td>\n      <td>159.0</td>\n      <td>2019-07-21T13:49:10-07:00</td>\n      <td>{\"type\": \"Point\", \"coordinates\": [-123.1320030...</td>\n    </tr>\n    <tr>\n      <th>2</th>\n      <td>14</td>\n      <td>2118901</td>\n      <td>14-106541</td>\n      <td>0</td>\n      <td>Quoc Khanh Nguyen (Quoc Nguyen)</td>\n      <td>K &amp; H Renovation</td>\n      <td>Gone Out of Business</td>\n      <td>NaN</td>\n      <td>NaN</td>\n      <td>Contractor</td>\n      <td>...</td>\n      <td>NaN</td>\n      <td>Vancouver</td>\n      <td>BC</td>\n      <td>CA</td>\n      <td>NaN</td>\n      <td>Hastings-Sunrise</td>\n      <td>0.0</td>\n      <td>NaN</td>\n      <td>2019-07-21T13:49:10-07:00</td>\n      <td>NaN</td>\n    </tr>\n    <tr>\n      <th>3</th>\n      <td>14</td>\n      <td>2118906</td>\n      <td>14-106546</td>\n      <td>0</td>\n      <td>Evershine Enterprises Ltd</td>\n      <td>NaN</td>\n      <td>Issued</td>\n      <td>2014-02-13T14:30:55-08:00</td>\n      <td>2014-12-31</td>\n      <td>Contractor</td>\n      <td>...</td>\n      <td>NaN</td>\n      <td>Vancouver</td>\n      <td>BC</td>\n      <td>CA</td>\n      <td>NaN</td>\n      <td>Sunset</td>\n      <td>1.0</td>\n      <td>199.0</td>\n      <td>2019-07-21T13:49:10-07:00</td>\n      <td>NaN</td>\n    </tr>\n    <tr>\n      <th>4</th>\n      <td>14</td>\n      <td>2118912</td>\n      <td>14-106552</td>\n      <td>0</td>\n      <td>Zhao Peng Li (Zhao Li)</td>\n      <td>NaN</td>\n      <td>Issued</td>\n      <td>2013-12-13T09:53:14-08:00</td>\n      <td>2014-12-31</td>\n      <td>Contractor</td>\n      <td>...</td>\n      <td>NaN</td>\n      <td>Vancouver</td>\n      <td>BC</td>\n      <td>CA</td>\n      <td>NaN</td>\n      <td>Kensington-Cedar Cottage</td>\n      <td>0.0</td>\n      <td>159.0</td>\n      <td>2019-07-21T13:49:10-07:00</td>\n      <td>NaN</td>\n    </tr>\n  </tbody>\n</table>\n<p>5 rows × 24 columns</p>\n</div>"
     },
     "metadata": {},
     "execution_count": 59
    }
   ],
   "source": [
    "df.head()"
   ]
  },
  {
   "cell_type": "code",
   "execution_count": 54,
   "metadata": {},
   "outputs": [
    {
     "output_type": "execute_result",
     "data": {
      "text/plain": [
       "Index(['FOLDERYEAR', 'LicenceRSN', 'LicenceNumber', 'LicenceRevisionNumber',\n",
       "       'BusinessName', 'BusinessTradeName', 'Status', 'IssuedDate',\n",
       "       'ExpiredDate', 'BusinessType', 'BusinessSubType', 'Unit', 'UnitType',\n",
       "       'House', 'Street', 'City', 'Province', 'Country', 'PostalCode',\n",
       "       'LocalArea', 'NumberofEmployees', 'FeePaid', 'ExtractDate', 'Geom',\n",
       "       'ln_no_year'],\n",
       "      dtype='object')"
      ]
     },
     "metadata": {},
     "execution_count": 54
    }
   ],
   "source": [
    "df.columns"
   ]
  },
  {
   "cell_type": "code",
   "execution_count": 55,
   "metadata": {},
   "outputs": [],
   "source": [
    "df = df.loc[df['Province']=='BC']\n",
    "df = df.loc[df['BusinessName'].notnull()]"
   ]
  },
  {
   "cell_type": "code",
   "execution_count": 56,
   "metadata": {},
   "outputs": [
    {
     "output_type": "execute_result",
     "data": {
      "text/plain": [
       "(490815, 25)"
      ]
     },
     "metadata": {},
     "execution_count": 56
    }
   ],
   "source": [
    "df.shape"
   ]
  },
  {
   "cell_type": "code",
   "execution_count": 41,
   "metadata": {},
   "outputs": [
    {
     "output_type": "execute_result",
     "data": {
      "text/plain": [
       "        FOLDERYEAR  LicenceRSN LicenceNumber  LicenceRevisionNumber  \\\n",
       "125314          14     2098472     14-100127                      0   \n",
       "26720           17     2776396     17-100127                      0   \n",
       "92545           14     2098516     14-100128                      0   \n",
       "303376          17     2776397     17-100128                      0   \n",
       "243175          14     2098980     14-100129                      0   \n",
       "159661          17     2776398     17-100129                      0   \n",
       "243178          14     2098997     14-100130                      0   \n",
       "303377          17     2776399     17-100130                      0   \n",
       "92559           14     2099514     14-100131                      0   \n",
       "26722           17     2776400     17-100131                      0   \n",
       "\n",
       "                                         BusinessName  \\\n",
       "125314                           Zenergy Electric Ltd   \n",
       "26720              Our Lady of Sorrows Church Society   \n",
       "92545          Vancouver Quality Home Air Systems Ltd   \n",
       "303376        Canadian Mortgage & Housing Corporation   \n",
       "243175                       MLG Construction Limited   \n",
       "159661                      Meridian Cultural Society   \n",
       "243178        Milton Michael Sorokin (Milton Sorokin)   \n",
       "303377                      RMR Vancouver Station Ltd   \n",
       "92559                           Naam Developments Ltd   \n",
       "26722   The Association Of United Ukrainian Canadians   \n",
       "\n",
       "                  BusinessTradeName  Status                 IssuedDate  \\\n",
       "125314                          NaN  Issued  2013-10-02T12:41:09-07:00   \n",
       "26720                           NaN  Issued  2017-02-28T12:39:32-08:00   \n",
       "92545                           NaN  Issued  2013-10-02T14:44:36-07:00   \n",
       "303376            Performance Works  Issued  2016-11-18T12:33:15-08:00   \n",
       "243175                          NaN  Issued  2013-10-03T11:56:45-07:00   \n",
       "159661                          NaN  Issued  2017-01-06T09:56:20-08:00   \n",
       "243178       Holly West Electric Co  Issued  2013-10-03T12:39:49-07:00   \n",
       "303377  Rocky Mountaineer Vacations  Issued  2016-12-19T13:29:53-08:00   \n",
       "92559                           NaN  Issued  2013-10-04T13:10:42-07:00   \n",
       "26722                           NaN  Issued  2016-12-30T10:09:06-08:00   \n",
       "\n",
       "       ExpiredDate                 BusinessType  ... Province Country  \\\n",
       "125314  2014-12-31        Electrical Contractor  ...       BC      CA   \n",
       "26720   2017-12-31                Assembly Hall  ...       BC      CA   \n",
       "92545   2014-12-31  Contractor - Special Trades  ...       BC      CA   \n",
       "303376  2017-12-31                Assembly Hall  ...       BC      CA   \n",
       "243175  2014-12-31                       Office  ...       BC      CA   \n",
       "159661  2017-12-31                Assembly Hall  ...       BC      CA   \n",
       "243178  2014-12-31        Electrical Contractor  ...       BC      CA   \n",
       "303377  2017-12-31                Assembly Hall  ...       BC      CA   \n",
       "92559   2014-12-31                   Contractor  ...       BC      CA   \n",
       "26722   2017-12-31                Assembly Hall  ...       BC      CA   \n",
       "\n",
       "       PostalCode                 LocalArea NumberofEmployees FeePaid  \\\n",
       "125314        NaN                 Killarney               1.0   129.0   \n",
       "26720     V6B 2A7          Hastings-Sunrise               9.0   179.0   \n",
       "92545         NaN       Renfrew-Collingwood               0.0   157.0   \n",
       "303376    V6H 3R8                  Fairview              10.0   139.0   \n",
       "243175        NaN          Hastings-Sunrise               1.0   129.0   \n",
       "159661    V5N 4N5  Kensington-Cedar Cottage               0.0   139.0   \n",
       "243178        NaN                Riley Park               1.0   129.0   \n",
       "303377    V6A 2L8                Strathcona              35.0   139.0   \n",
       "92559         NaN                  Oakridge               2.0   157.0   \n",
       "26722     V6E 1V9                Strathcona               0.0   139.0   \n",
       "\n",
       "                      ExtractDate  \\\n",
       "125314  2019-07-21T13:49:09-07:00   \n",
       "26720   2020-01-01T02:32:01-08:00   \n",
       "92545   2019-07-21T13:49:09-07:00   \n",
       "303376  2020-01-01T02:32:01-08:00   \n",
       "243175  2019-07-21T13:49:09-07:00   \n",
       "159661  2020-01-01T02:32:01-08:00   \n",
       "243178  2019-07-21T13:49:09-07:00   \n",
       "303377  2020-01-01T02:32:01-08:00   \n",
       "92559   2019-07-21T13:49:09-07:00   \n",
       "26722   2020-01-01T02:32:01-08:00   \n",
       "\n",
       "                                                     Geom ln_no_year lic_dups  \n",
       "125314                                                NaN     100127     True  \n",
       "26720   {\"type\": \"Point\", \"coordinates\": [-123.0501537...     100127     True  \n",
       "92545                                                 NaN     100128     True  \n",
       "303376  {\"type\": \"Point\", \"coordinates\": [-123.1317825...     100128     True  \n",
       "243175                                                NaN     100129     True  \n",
       "159661  {\"type\": \"Point\", \"coordinates\": [-123.0647082...     100129     True  \n",
       "243178                                                NaN     100130     True  \n",
       "303377  {\"type\": \"Point\", \"coordinates\": [-123.0908114...     100130     True  \n",
       "92559                                                 NaN     100131     True  \n",
       "26722   {\"type\": \"Point\", \"coordinates\": [-123.0870172...     100131     True  \n",
       "\n",
       "[10 rows x 26 columns]"
      ],
      "text/html": "<div>\n<style scoped>\n    .dataframe tbody tr th:only-of-type {\n        vertical-align: middle;\n    }\n\n    .dataframe tbody tr th {\n        vertical-align: top;\n    }\n\n    .dataframe thead th {\n        text-align: right;\n    }\n</style>\n<table border=\"1\" class=\"dataframe\">\n  <thead>\n    <tr style=\"text-align: right;\">\n      <th></th>\n      <th>FOLDERYEAR</th>\n      <th>LicenceRSN</th>\n      <th>LicenceNumber</th>\n      <th>LicenceRevisionNumber</th>\n      <th>BusinessName</th>\n      <th>BusinessTradeName</th>\n      <th>Status</th>\n      <th>IssuedDate</th>\n      <th>ExpiredDate</th>\n      <th>BusinessType</th>\n      <th>...</th>\n      <th>Province</th>\n      <th>Country</th>\n      <th>PostalCode</th>\n      <th>LocalArea</th>\n      <th>NumberofEmployees</th>\n      <th>FeePaid</th>\n      <th>ExtractDate</th>\n      <th>Geom</th>\n      <th>ln_no_year</th>\n      <th>lic_dups</th>\n    </tr>\n  </thead>\n  <tbody>\n    <tr>\n      <th>125314</th>\n      <td>14</td>\n      <td>2098472</td>\n      <td>14-100127</td>\n      <td>0</td>\n      <td>Zenergy Electric Ltd</td>\n      <td>NaN</td>\n      <td>Issued</td>\n      <td>2013-10-02T12:41:09-07:00</td>\n      <td>2014-12-31</td>\n      <td>Electrical Contractor</td>\n      <td>...</td>\n      <td>BC</td>\n      <td>CA</td>\n      <td>NaN</td>\n      <td>Killarney</td>\n      <td>1.0</td>\n      <td>129.0</td>\n      <td>2019-07-21T13:49:09-07:00</td>\n      <td>NaN</td>\n      <td>100127</td>\n      <td>True</td>\n    </tr>\n    <tr>\n      <th>26720</th>\n      <td>17</td>\n      <td>2776396</td>\n      <td>17-100127</td>\n      <td>0</td>\n      <td>Our Lady of Sorrows Church Society</td>\n      <td>NaN</td>\n      <td>Issued</td>\n      <td>2017-02-28T12:39:32-08:00</td>\n      <td>2017-12-31</td>\n      <td>Assembly Hall</td>\n      <td>...</td>\n      <td>BC</td>\n      <td>CA</td>\n      <td>V6B 2A7</td>\n      <td>Hastings-Sunrise</td>\n      <td>9.0</td>\n      <td>179.0</td>\n      <td>2020-01-01T02:32:01-08:00</td>\n      <td>{\"type\": \"Point\", \"coordinates\": [-123.0501537...</td>\n      <td>100127</td>\n      <td>True</td>\n    </tr>\n    <tr>\n      <th>92545</th>\n      <td>14</td>\n      <td>2098516</td>\n      <td>14-100128</td>\n      <td>0</td>\n      <td>Vancouver Quality Home Air Systems Ltd</td>\n      <td>NaN</td>\n      <td>Issued</td>\n      <td>2013-10-02T14:44:36-07:00</td>\n      <td>2014-12-31</td>\n      <td>Contractor - Special Trades</td>\n      <td>...</td>\n      <td>BC</td>\n      <td>CA</td>\n      <td>NaN</td>\n      <td>Renfrew-Collingwood</td>\n      <td>0.0</td>\n      <td>157.0</td>\n      <td>2019-07-21T13:49:09-07:00</td>\n      <td>NaN</td>\n      <td>100128</td>\n      <td>True</td>\n    </tr>\n    <tr>\n      <th>303376</th>\n      <td>17</td>\n      <td>2776397</td>\n      <td>17-100128</td>\n      <td>0</td>\n      <td>Canadian Mortgage &amp; Housing Corporation</td>\n      <td>Performance Works</td>\n      <td>Issued</td>\n      <td>2016-11-18T12:33:15-08:00</td>\n      <td>2017-12-31</td>\n      <td>Assembly Hall</td>\n      <td>...</td>\n      <td>BC</td>\n      <td>CA</td>\n      <td>V6H 3R8</td>\n      <td>Fairview</td>\n      <td>10.0</td>\n      <td>139.0</td>\n      <td>2020-01-01T02:32:01-08:00</td>\n      <td>{\"type\": \"Point\", \"coordinates\": [-123.1317825...</td>\n      <td>100128</td>\n      <td>True</td>\n    </tr>\n    <tr>\n      <th>243175</th>\n      <td>14</td>\n      <td>2098980</td>\n      <td>14-100129</td>\n      <td>0</td>\n      <td>MLG Construction Limited</td>\n      <td>NaN</td>\n      <td>Issued</td>\n      <td>2013-10-03T11:56:45-07:00</td>\n      <td>2014-12-31</td>\n      <td>Office</td>\n      <td>...</td>\n      <td>BC</td>\n      <td>CA</td>\n      <td>NaN</td>\n      <td>Hastings-Sunrise</td>\n      <td>1.0</td>\n      <td>129.0</td>\n      <td>2019-07-21T13:49:09-07:00</td>\n      <td>NaN</td>\n      <td>100129</td>\n      <td>True</td>\n    </tr>\n    <tr>\n      <th>159661</th>\n      <td>17</td>\n      <td>2776398</td>\n      <td>17-100129</td>\n      <td>0</td>\n      <td>Meridian Cultural Society</td>\n      <td>NaN</td>\n      <td>Issued</td>\n      <td>2017-01-06T09:56:20-08:00</td>\n      <td>2017-12-31</td>\n      <td>Assembly Hall</td>\n      <td>...</td>\n      <td>BC</td>\n      <td>CA</td>\n      <td>V5N 4N5</td>\n      <td>Kensington-Cedar Cottage</td>\n      <td>0.0</td>\n      <td>139.0</td>\n      <td>2020-01-01T02:32:01-08:00</td>\n      <td>{\"type\": \"Point\", \"coordinates\": [-123.0647082...</td>\n      <td>100129</td>\n      <td>True</td>\n    </tr>\n    <tr>\n      <th>243178</th>\n      <td>14</td>\n      <td>2098997</td>\n      <td>14-100130</td>\n      <td>0</td>\n      <td>Milton Michael Sorokin (Milton Sorokin)</td>\n      <td>Holly West Electric Co</td>\n      <td>Issued</td>\n      <td>2013-10-03T12:39:49-07:00</td>\n      <td>2014-12-31</td>\n      <td>Electrical Contractor</td>\n      <td>...</td>\n      <td>BC</td>\n      <td>CA</td>\n      <td>NaN</td>\n      <td>Riley Park</td>\n      <td>1.0</td>\n      <td>129.0</td>\n      <td>2019-07-21T13:49:09-07:00</td>\n      <td>NaN</td>\n      <td>100130</td>\n      <td>True</td>\n    </tr>\n    <tr>\n      <th>303377</th>\n      <td>17</td>\n      <td>2776399</td>\n      <td>17-100130</td>\n      <td>0</td>\n      <td>RMR Vancouver Station Ltd</td>\n      <td>Rocky Mountaineer Vacations</td>\n      <td>Issued</td>\n      <td>2016-12-19T13:29:53-08:00</td>\n      <td>2017-12-31</td>\n      <td>Assembly Hall</td>\n      <td>...</td>\n      <td>BC</td>\n      <td>CA</td>\n      <td>V6A 2L8</td>\n      <td>Strathcona</td>\n      <td>35.0</td>\n      <td>139.0</td>\n      <td>2020-01-01T02:32:01-08:00</td>\n      <td>{\"type\": \"Point\", \"coordinates\": [-123.0908114...</td>\n      <td>100130</td>\n      <td>True</td>\n    </tr>\n    <tr>\n      <th>92559</th>\n      <td>14</td>\n      <td>2099514</td>\n      <td>14-100131</td>\n      <td>0</td>\n      <td>Naam Developments Ltd</td>\n      <td>NaN</td>\n      <td>Issued</td>\n      <td>2013-10-04T13:10:42-07:00</td>\n      <td>2014-12-31</td>\n      <td>Contractor</td>\n      <td>...</td>\n      <td>BC</td>\n      <td>CA</td>\n      <td>NaN</td>\n      <td>Oakridge</td>\n      <td>2.0</td>\n      <td>157.0</td>\n      <td>2019-07-21T13:49:09-07:00</td>\n      <td>NaN</td>\n      <td>100131</td>\n      <td>True</td>\n    </tr>\n    <tr>\n      <th>26722</th>\n      <td>17</td>\n      <td>2776400</td>\n      <td>17-100131</td>\n      <td>0</td>\n      <td>The Association Of United Ukrainian Canadians</td>\n      <td>NaN</td>\n      <td>Issued</td>\n      <td>2016-12-30T10:09:06-08:00</td>\n      <td>2017-12-31</td>\n      <td>Assembly Hall</td>\n      <td>...</td>\n      <td>BC</td>\n      <td>CA</td>\n      <td>V6E 1V9</td>\n      <td>Strathcona</td>\n      <td>0.0</td>\n      <td>139.0</td>\n      <td>2020-01-01T02:32:01-08:00</td>\n      <td>{\"type\": \"Point\", \"coordinates\": [-123.0870172...</td>\n      <td>100131</td>\n      <td>True</td>\n    </tr>\n  </tbody>\n</table>\n<p>10 rows × 26 columns</p>\n</div>"
     },
     "metadata": {},
     "execution_count": 41
    }
   ],
   "source": [
    "df['ln_no_year'] = df['LicenceNumber'].str[3:].str.strip()\n",
    "issued = df.loc[df['Status'] == 'Issued']\n",
    "issued['lic_dups'] = issued['ln_no_year'].duplicated(keep=False)\n",
    "issued.loc[issued['lic_dups']].sort_values(['ln_no_year', 'FOLDERYEAR']).head(10)\n"
   ]
  },
  {
   "cell_type": "code",
   "execution_count": 53,
   "metadata": {},
   "outputs": [
    {
     "output_type": "execute_result",
     "data": {
      "text/plain": [
       "        FOLDERYEAR  LicenceRSN LicenceNumber  LicenceRevisionNumber  \\\n",
       "425935          18     3100450     18-516072                      0   \n",
       "365017          19     3265242     19-139570                      0   \n",
       "241092          14     2154232     14-141822                      0   \n",
       "226175          13     1813121     13-193702                      0   \n",
       "354375          18     3035854     18-467546                      0   \n",
       "18689           16     2600156     16-141326                      0   \n",
       "366216          19     3269841     19-144084                      0   \n",
       "63768           17     2815952     17-139639                      0   \n",
       "108003          15     2371614     15-141890                      0   \n",
       "451807          20     3499427     20-146214                      0   \n",
       "382116          18     3221496     18-636634                      0   \n",
       "385006          19     3236980     19-111466                      0   \n",
       "436139          20     3474808     20-121597                      0   \n",
       "304036          19     3395142     19-256544                      0   \n",
       "492956          20     3475127     20-121916                      0   \n",
       "185169          15     2351557     15-121846                      0   \n",
       "300816          14     2133653     14-121262                      0   \n",
       "75481           16     2579608     16-120792                      0   \n",
       "102290          13     1792370     13-172954                      0   \n",
       "147828          13     1800944     13-181525                      0   \n",
       "\n",
       "                                BusinessName                BusinessTradeName  \\\n",
       "425935         !Exotics BySIYTHE Corporation                              NaN   \n",
       "365017         !Exotics BySIYTHE Corporation                              NaN   \n",
       "241092  #1 Antique Warehouse Furnishings Ltd  #1 Antique Warehouse Furnishing   \n",
       "226175  #1 Antique Warehouse Furnishings Ltd  #1 Antique Warehouse Furnishing   \n",
       "354375  #1 Antique Warehouse Furnishings Ltd  #1 Antique Warehouse Furnishing   \n",
       "18689   #1 Antique Warehouse Furnishings Ltd  #1 Antique Warehouse Furnishing   \n",
       "366216  #1 Antique Warehouse Furnishings Ltd  #1 Antique Warehouse Furnishing   \n",
       "63768   #1 Antique Warehouse Furnishings Ltd  #1 Antique Warehouse Furnishing   \n",
       "108003  #1 Antique Warehouse Furnishings Ltd  #1 Antique Warehouse Furnishing   \n",
       "451807  #1 Antique Warehouse Furnishings Ltd  #1 Antique Warehouse Furnishing   \n",
       "382116                  #1 Liberty Homes Ltd                              NaN   \n",
       "385006                  #1 Liberty Homes Ltd                              NaN   \n",
       "436139                  #1 Liberty Homes Ltd                              NaN   \n",
       "304036  #7 Dynamic Dimensions Consulting Inc                              NaN   \n",
       "492956  #7 Dynamic Dimensions Consulting Inc                              NaN   \n",
       "185169                           (A Boulton)                              NaN   \n",
       "300816                           (A Boulton)                              NaN   \n",
       "75481                            (A Boulton)                              NaN   \n",
       "102290                           (A Boulton)                              NaN   \n",
       "147828                           (A Hobkirk)               Miller Thomson LLP   \n",
       "\n",
       "                      Status                 IssuedDate ExpiredDate  \\\n",
       "425935                Issued  2018-02-14T09:40:11-08:00  2018-12-31   \n",
       "365017               Pending  2019-08-15T10:17:53-07:00  2019-12-31   \n",
       "241092                Issued  2013-12-12T14:12:39-08:00  2014-12-31   \n",
       "226175                Issued  2012-12-16T15:57:15-08:00  2013-12-31   \n",
       "354375                Issued  2018-02-15T17:16:23-08:00  2018-12-31   \n",
       "18689                 Issued  2015-12-22T17:38:02-08:00  2016-12-31   \n",
       "366216                Issued  2019-02-01T14:19:41-08:00  2019-12-31   \n",
       "63768                 Issued  2016-12-02T17:36:00-08:00  2017-12-31   \n",
       "108003                Issued  2014-12-17T12:50:21-08:00  2015-12-31   \n",
       "451807                Issued  2019-12-14T15:35:48-08:00  2020-12-31   \n",
       "382116                Issued  2018-10-24T08:45:33-07:00  2018-12-31   \n",
       "385006                Issued  2019-01-07T09:37:50-08:00  2019-12-31   \n",
       "436139                Issued  2020-02-07T15:43:21-08:00  2020-12-31   \n",
       "304036                Issued  2019-06-19T12:41:20-07:00  2019-12-31   \n",
       "492956               Pending                        NaN         NaN   \n",
       "185169                Issued  2014-12-17T11:50:11-08:00  2015-12-31   \n",
       "300816                Issued  2013-12-12T11:41:06-08:00  2014-12-31   \n",
       "75481   Gone Out of Business                        NaN         NaN   \n",
       "102290                Issued  2013-01-09T14:25:33-08:00  2013-12-31   \n",
       "147828                Issued  2013-01-11T08:44:50-08:00  2013-12-31   \n",
       "\n",
       "           BusinessType  ...       City Province Country PostalCode LocalArea  \\\n",
       "425935           Office  ...  Vancouver       BC      CA    V6B 2Z4  Downtown   \n",
       "365017           Office  ...  Vancouver       BC      CA    V6B 2Z4  Downtown   \n",
       "241092    Retail Dealer  ...  Vancouver       BC      CA    V5X 2R5   Marpole   \n",
       "226175    Retail Dealer  ...  Vancouver       BC      CA    V5X 2R5   Marpole   \n",
       "354375    Retail Dealer  ...  Vancouver       BC      CA    V5X 2R5   Marpole   \n",
       "18689     Retail Dealer  ...  Vancouver       BC      CA    V5X 2R5   Marpole   \n",
       "366216    Retail Dealer  ...  Vancouver       BC      CA    V5X 2R5   Marpole   \n",
       "63768     Retail Dealer  ...  Vancouver       BC      CA    V5X 2R5   Marpole   \n",
       "108003    Retail Dealer  ...  Vancouver       BC      CA    V5X 2R5   Marpole   \n",
       "451807    Retail Dealer  ...  Vancouver       BC      CA    V5X 2R5   Marpole   \n",
       "382116       Contractor  ...     Surrey       BC      CA        NaN       NaN   \n",
       "385006       Contractor  ...     Surrey       BC      CA        NaN       NaN   \n",
       "436139       Contractor  ...     Surrey       BC      CA        NaN       NaN   \n",
       "304036       Contractor  ...     Oshawa       ON      CA        NaN       NaN   \n",
       "492956       Contractor  ...     Oshawa       ON      CA        NaN       NaN   \n",
       "185169  Health Services  ...  Vancouver       BC      CA    V5Z 4C2  Fairview   \n",
       "300816  Health Services  ...  Vancouver       BC      CA    V5Z 4C2  Fairview   \n",
       "75481   Health Services  ...  Vancouver       BC      CA    V5Z 4C2  Fairview   \n",
       "102290  Health Services  ...  Vancouver       BC      CA    V5Z 4C2  Fairview   \n",
       "147828           Office  ...  Vancouver       BC      CA    V6Z 2M1  Downtown   \n",
       "\n",
       "       NumberofEmployees FeePaid                ExtractDate  \\\n",
       "425935               1.0   189.0  2020-11-01T02:32:31-08:00   \n",
       "365017               1.0    50.0  2020-11-01T02:32:36-08:00   \n",
       "241092               6.0   130.0  2019-07-21T13:49:12-07:00   \n",
       "226175               6.0   129.0  2019-07-21T13:49:08-07:00   \n",
       "354375               8.0   185.0  2020-11-01T02:32:29-08:00   \n",
       "18689                5.0   136.0  2019-07-21T13:49:20-07:00   \n",
       "366216               4.0   191.0  2020-11-01T02:32:36-08:00   \n",
       "63768                5.0   139.0  2020-01-01T02:32:04-08:00   \n",
       "108003               6.0   133.0  2019-07-21T13:49:16-07:00   \n",
       "451807               7.0   155.0  2020-11-15T00:09:32-08:00   \n",
       "382116               0.0   100.0  2020-11-01T02:32:24-08:00   \n",
       "385006               2.0   182.0  2020-11-01T02:32:24-08:00   \n",
       "436139               2.0   227.0  2020-11-15T00:09:29-08:00   \n",
       "304036               0.0   164.0  2020-11-01T02:32:25-08:00   \n",
       "492956               0.0     NaN  2020-11-15T00:09:29-08:00   \n",
       "185169               5.0   133.0  2019-07-21T13:49:15-07:00   \n",
       "300816               5.0   130.0  2019-07-21T13:49:11-07:00   \n",
       "75481                5.0     NaN  2019-07-21T13:49:19-07:00   \n",
       "102290               5.0   129.0  2019-07-21T13:49:07-07:00   \n",
       "147828               0.0   129.0  2019-07-21T13:49:07-07:00   \n",
       "\n",
       "                                                     Geom ln_no_year  \n",
       "425935  {\"type\": \"Point\", \"coordinates\": [-123.1119263...     516072  \n",
       "365017  {\"type\": \"Point\", \"coordinates\": [-123.1119263...     139570  \n",
       "241092  {\"type\": \"Point\", \"coordinates\": [-123.1107282...     141822  \n",
       "226175  {\"type\": \"Point\", \"coordinates\": [-123.1107282...     193702  \n",
       "354375  {\"type\": \"Point\", \"coordinates\": [-123.1107282...     467546  \n",
       "18689   {\"type\": \"Point\", \"coordinates\": [-123.1107282...     141326  \n",
       "366216  {\"type\": \"Point\", \"coordinates\": [-123.1107282...     144084  \n",
       "63768   {\"type\": \"Point\", \"coordinates\": [-123.1107282...     139639  \n",
       "108003  {\"type\": \"Point\", \"coordinates\": [-123.1107282...     141890  \n",
       "451807  {\"type\": \"Point\", \"coordinates\": [-123.1107282...     146214  \n",
       "382116                                                NaN     636634  \n",
       "385006                                                NaN     111466  \n",
       "436139                                                NaN     121597  \n",
       "304036                                                NaN     256544  \n",
       "492956                                                NaN     121916  \n",
       "185169  {\"type\": \"Point\", \"coordinates\": [-123.1185961...     121846  \n",
       "300816  {\"type\": \"Point\", \"coordinates\": [-123.1185961...     121262  \n",
       "75481   {\"type\": \"Point\", \"coordinates\": [-123.1185961...     120792  \n",
       "102290  {\"type\": \"Point\", \"coordinates\": [-123.1185961...     172954  \n",
       "147828  {\"type\": \"Point\", \"coordinates\": [-123.1215730...     181525  \n",
       "\n",
       "[20 rows x 25 columns]"
      ],
      "text/html": "<div>\n<style scoped>\n    .dataframe tbody tr th:only-of-type {\n        vertical-align: middle;\n    }\n\n    .dataframe tbody tr th {\n        vertical-align: top;\n    }\n\n    .dataframe thead th {\n        text-align: right;\n    }\n</style>\n<table border=\"1\" class=\"dataframe\">\n  <thead>\n    <tr style=\"text-align: right;\">\n      <th></th>\n      <th>FOLDERYEAR</th>\n      <th>LicenceRSN</th>\n      <th>LicenceNumber</th>\n      <th>LicenceRevisionNumber</th>\n      <th>BusinessName</th>\n      <th>BusinessTradeName</th>\n      <th>Status</th>\n      <th>IssuedDate</th>\n      <th>ExpiredDate</th>\n      <th>BusinessType</th>\n      <th>...</th>\n      <th>City</th>\n      <th>Province</th>\n      <th>Country</th>\n      <th>PostalCode</th>\n      <th>LocalArea</th>\n      <th>NumberofEmployees</th>\n      <th>FeePaid</th>\n      <th>ExtractDate</th>\n      <th>Geom</th>\n      <th>ln_no_year</th>\n    </tr>\n  </thead>\n  <tbody>\n    <tr>\n      <th>425935</th>\n      <td>18</td>\n      <td>3100450</td>\n      <td>18-516072</td>\n      <td>0</td>\n      <td>!Exotics BySIYTHE Corporation</td>\n      <td>NaN</td>\n      <td>Issued</td>\n      <td>2018-02-14T09:40:11-08:00</td>\n      <td>2018-12-31</td>\n      <td>Office</td>\n      <td>...</td>\n      <td>Vancouver</td>\n      <td>BC</td>\n      <td>CA</td>\n      <td>V6B 2Z4</td>\n      <td>Downtown</td>\n      <td>1.0</td>\n      <td>189.0</td>\n      <td>2020-11-01T02:32:31-08:00</td>\n      <td>{\"type\": \"Point\", \"coordinates\": [-123.1119263...</td>\n      <td>516072</td>\n    </tr>\n    <tr>\n      <th>365017</th>\n      <td>19</td>\n      <td>3265242</td>\n      <td>19-139570</td>\n      <td>0</td>\n      <td>!Exotics BySIYTHE Corporation</td>\n      <td>NaN</td>\n      <td>Pending</td>\n      <td>2019-08-15T10:17:53-07:00</td>\n      <td>2019-12-31</td>\n      <td>Office</td>\n      <td>...</td>\n      <td>Vancouver</td>\n      <td>BC</td>\n      <td>CA</td>\n      <td>V6B 2Z4</td>\n      <td>Downtown</td>\n      <td>1.0</td>\n      <td>50.0</td>\n      <td>2020-11-01T02:32:36-08:00</td>\n      <td>{\"type\": \"Point\", \"coordinates\": [-123.1119263...</td>\n      <td>139570</td>\n    </tr>\n    <tr>\n      <th>241092</th>\n      <td>14</td>\n      <td>2154232</td>\n      <td>14-141822</td>\n      <td>0</td>\n      <td>#1 Antique Warehouse Furnishings Ltd</td>\n      <td>#1 Antique Warehouse Furnishing</td>\n      <td>Issued</td>\n      <td>2013-12-12T14:12:39-08:00</td>\n      <td>2014-12-31</td>\n      <td>Retail Dealer</td>\n      <td>...</td>\n      <td>Vancouver</td>\n      <td>BC</td>\n      <td>CA</td>\n      <td>V5X 2R5</td>\n      <td>Marpole</td>\n      <td>6.0</td>\n      <td>130.0</td>\n      <td>2019-07-21T13:49:12-07:00</td>\n      <td>{\"type\": \"Point\", \"coordinates\": [-123.1107282...</td>\n      <td>141822</td>\n    </tr>\n    <tr>\n      <th>226175</th>\n      <td>13</td>\n      <td>1813121</td>\n      <td>13-193702</td>\n      <td>0</td>\n      <td>#1 Antique Warehouse Furnishings Ltd</td>\n      <td>#1 Antique Warehouse Furnishing</td>\n      <td>Issued</td>\n      <td>2012-12-16T15:57:15-08:00</td>\n      <td>2013-12-31</td>\n      <td>Retail Dealer</td>\n      <td>...</td>\n      <td>Vancouver</td>\n      <td>BC</td>\n      <td>CA</td>\n      <td>V5X 2R5</td>\n      <td>Marpole</td>\n      <td>6.0</td>\n      <td>129.0</td>\n      <td>2019-07-21T13:49:08-07:00</td>\n      <td>{\"type\": \"Point\", \"coordinates\": [-123.1107282...</td>\n      <td>193702</td>\n    </tr>\n    <tr>\n      <th>354375</th>\n      <td>18</td>\n      <td>3035854</td>\n      <td>18-467546</td>\n      <td>0</td>\n      <td>#1 Antique Warehouse Furnishings Ltd</td>\n      <td>#1 Antique Warehouse Furnishing</td>\n      <td>Issued</td>\n      <td>2018-02-15T17:16:23-08:00</td>\n      <td>2018-12-31</td>\n      <td>Retail Dealer</td>\n      <td>...</td>\n      <td>Vancouver</td>\n      <td>BC</td>\n      <td>CA</td>\n      <td>V5X 2R5</td>\n      <td>Marpole</td>\n      <td>8.0</td>\n      <td>185.0</td>\n      <td>2020-11-01T02:32:29-08:00</td>\n      <td>{\"type\": \"Point\", \"coordinates\": [-123.1107282...</td>\n      <td>467546</td>\n    </tr>\n    <tr>\n      <th>18689</th>\n      <td>16</td>\n      <td>2600156</td>\n      <td>16-141326</td>\n      <td>0</td>\n      <td>#1 Antique Warehouse Furnishings Ltd</td>\n      <td>#1 Antique Warehouse Furnishing</td>\n      <td>Issued</td>\n      <td>2015-12-22T17:38:02-08:00</td>\n      <td>2016-12-31</td>\n      <td>Retail Dealer</td>\n      <td>...</td>\n      <td>Vancouver</td>\n      <td>BC</td>\n      <td>CA</td>\n      <td>V5X 2R5</td>\n      <td>Marpole</td>\n      <td>5.0</td>\n      <td>136.0</td>\n      <td>2019-07-21T13:49:20-07:00</td>\n      <td>{\"type\": \"Point\", \"coordinates\": [-123.1107282...</td>\n      <td>141326</td>\n    </tr>\n    <tr>\n      <th>366216</th>\n      <td>19</td>\n      <td>3269841</td>\n      <td>19-144084</td>\n      <td>0</td>\n      <td>#1 Antique Warehouse Furnishings Ltd</td>\n      <td>#1 Antique Warehouse Furnishing</td>\n      <td>Issued</td>\n      <td>2019-02-01T14:19:41-08:00</td>\n      <td>2019-12-31</td>\n      <td>Retail Dealer</td>\n      <td>...</td>\n      <td>Vancouver</td>\n      <td>BC</td>\n      <td>CA</td>\n      <td>V5X 2R5</td>\n      <td>Marpole</td>\n      <td>4.0</td>\n      <td>191.0</td>\n      <td>2020-11-01T02:32:36-08:00</td>\n      <td>{\"type\": \"Point\", \"coordinates\": [-123.1107282...</td>\n      <td>144084</td>\n    </tr>\n    <tr>\n      <th>63768</th>\n      <td>17</td>\n      <td>2815952</td>\n      <td>17-139639</td>\n      <td>0</td>\n      <td>#1 Antique Warehouse Furnishings Ltd</td>\n      <td>#1 Antique Warehouse Furnishing</td>\n      <td>Issued</td>\n      <td>2016-12-02T17:36:00-08:00</td>\n      <td>2017-12-31</td>\n      <td>Retail Dealer</td>\n      <td>...</td>\n      <td>Vancouver</td>\n      <td>BC</td>\n      <td>CA</td>\n      <td>V5X 2R5</td>\n      <td>Marpole</td>\n      <td>5.0</td>\n      <td>139.0</td>\n      <td>2020-01-01T02:32:04-08:00</td>\n      <td>{\"type\": \"Point\", \"coordinates\": [-123.1107282...</td>\n      <td>139639</td>\n    </tr>\n    <tr>\n      <th>108003</th>\n      <td>15</td>\n      <td>2371614</td>\n      <td>15-141890</td>\n      <td>0</td>\n      <td>#1 Antique Warehouse Furnishings Ltd</td>\n      <td>#1 Antique Warehouse Furnishing</td>\n      <td>Issued</td>\n      <td>2014-12-17T12:50:21-08:00</td>\n      <td>2015-12-31</td>\n      <td>Retail Dealer</td>\n      <td>...</td>\n      <td>Vancouver</td>\n      <td>BC</td>\n      <td>CA</td>\n      <td>V5X 2R5</td>\n      <td>Marpole</td>\n      <td>6.0</td>\n      <td>133.0</td>\n      <td>2019-07-21T13:49:16-07:00</td>\n      <td>{\"type\": \"Point\", \"coordinates\": [-123.1107282...</td>\n      <td>141890</td>\n    </tr>\n    <tr>\n      <th>451807</th>\n      <td>20</td>\n      <td>3499427</td>\n      <td>20-146214</td>\n      <td>0</td>\n      <td>#1 Antique Warehouse Furnishings Ltd</td>\n      <td>#1 Antique Warehouse Furnishing</td>\n      <td>Issued</td>\n      <td>2019-12-14T15:35:48-08:00</td>\n      <td>2020-12-31</td>\n      <td>Retail Dealer</td>\n      <td>...</td>\n      <td>Vancouver</td>\n      <td>BC</td>\n      <td>CA</td>\n      <td>V5X 2R5</td>\n      <td>Marpole</td>\n      <td>7.0</td>\n      <td>155.0</td>\n      <td>2020-11-15T00:09:32-08:00</td>\n      <td>{\"type\": \"Point\", \"coordinates\": [-123.1107282...</td>\n      <td>146214</td>\n    </tr>\n    <tr>\n      <th>382116</th>\n      <td>18</td>\n      <td>3221496</td>\n      <td>18-636634</td>\n      <td>0</td>\n      <td>#1 Liberty Homes Ltd</td>\n      <td>NaN</td>\n      <td>Issued</td>\n      <td>2018-10-24T08:45:33-07:00</td>\n      <td>2018-12-31</td>\n      <td>Contractor</td>\n      <td>...</td>\n      <td>Surrey</td>\n      <td>BC</td>\n      <td>CA</td>\n      <td>NaN</td>\n      <td>NaN</td>\n      <td>0.0</td>\n      <td>100.0</td>\n      <td>2020-11-01T02:32:24-08:00</td>\n      <td>NaN</td>\n      <td>636634</td>\n    </tr>\n    <tr>\n      <th>385006</th>\n      <td>19</td>\n      <td>3236980</td>\n      <td>19-111466</td>\n      <td>0</td>\n      <td>#1 Liberty Homes Ltd</td>\n      <td>NaN</td>\n      <td>Issued</td>\n      <td>2019-01-07T09:37:50-08:00</td>\n      <td>2019-12-31</td>\n      <td>Contractor</td>\n      <td>...</td>\n      <td>Surrey</td>\n      <td>BC</td>\n      <td>CA</td>\n      <td>NaN</td>\n      <td>NaN</td>\n      <td>2.0</td>\n      <td>182.0</td>\n      <td>2020-11-01T02:32:24-08:00</td>\n      <td>NaN</td>\n      <td>111466</td>\n    </tr>\n    <tr>\n      <th>436139</th>\n      <td>20</td>\n      <td>3474808</td>\n      <td>20-121597</td>\n      <td>0</td>\n      <td>#1 Liberty Homes Ltd</td>\n      <td>NaN</td>\n      <td>Issued</td>\n      <td>2020-02-07T15:43:21-08:00</td>\n      <td>2020-12-31</td>\n      <td>Contractor</td>\n      <td>...</td>\n      <td>Surrey</td>\n      <td>BC</td>\n      <td>CA</td>\n      <td>NaN</td>\n      <td>NaN</td>\n      <td>2.0</td>\n      <td>227.0</td>\n      <td>2020-11-15T00:09:29-08:00</td>\n      <td>NaN</td>\n      <td>121597</td>\n    </tr>\n    <tr>\n      <th>304036</th>\n      <td>19</td>\n      <td>3395142</td>\n      <td>19-256544</td>\n      <td>0</td>\n      <td>#7 Dynamic Dimensions Consulting Inc</td>\n      <td>NaN</td>\n      <td>Issued</td>\n      <td>2019-06-19T12:41:20-07:00</td>\n      <td>2019-12-31</td>\n      <td>Contractor</td>\n      <td>...</td>\n      <td>Oshawa</td>\n      <td>ON</td>\n      <td>CA</td>\n      <td>NaN</td>\n      <td>NaN</td>\n      <td>0.0</td>\n      <td>164.0</td>\n      <td>2020-11-01T02:32:25-08:00</td>\n      <td>NaN</td>\n      <td>256544</td>\n    </tr>\n    <tr>\n      <th>492956</th>\n      <td>20</td>\n      <td>3475127</td>\n      <td>20-121916</td>\n      <td>0</td>\n      <td>#7 Dynamic Dimensions Consulting Inc</td>\n      <td>NaN</td>\n      <td>Pending</td>\n      <td>NaN</td>\n      <td>NaN</td>\n      <td>Contractor</td>\n      <td>...</td>\n      <td>Oshawa</td>\n      <td>ON</td>\n      <td>CA</td>\n      <td>NaN</td>\n      <td>NaN</td>\n      <td>0.0</td>\n      <td>NaN</td>\n      <td>2020-11-15T00:09:29-08:00</td>\n      <td>NaN</td>\n      <td>121916</td>\n    </tr>\n    <tr>\n      <th>185169</th>\n      <td>15</td>\n      <td>2351557</td>\n      <td>15-121846</td>\n      <td>0</td>\n      <td>(A Boulton)</td>\n      <td>NaN</td>\n      <td>Issued</td>\n      <td>2014-12-17T11:50:11-08:00</td>\n      <td>2015-12-31</td>\n      <td>Health Services</td>\n      <td>...</td>\n      <td>Vancouver</td>\n      <td>BC</td>\n      <td>CA</td>\n      <td>V5Z 4C2</td>\n      <td>Fairview</td>\n      <td>5.0</td>\n      <td>133.0</td>\n      <td>2019-07-21T13:49:15-07:00</td>\n      <td>{\"type\": \"Point\", \"coordinates\": [-123.1185961...</td>\n      <td>121846</td>\n    </tr>\n    <tr>\n      <th>300816</th>\n      <td>14</td>\n      <td>2133653</td>\n      <td>14-121262</td>\n      <td>0</td>\n      <td>(A Boulton)</td>\n      <td>NaN</td>\n      <td>Issued</td>\n      <td>2013-12-12T11:41:06-08:00</td>\n      <td>2014-12-31</td>\n      <td>Health Services</td>\n      <td>...</td>\n      <td>Vancouver</td>\n      <td>BC</td>\n      <td>CA</td>\n      <td>V5Z 4C2</td>\n      <td>Fairview</td>\n      <td>5.0</td>\n      <td>130.0</td>\n      <td>2019-07-21T13:49:11-07:00</td>\n      <td>{\"type\": \"Point\", \"coordinates\": [-123.1185961...</td>\n      <td>121262</td>\n    </tr>\n    <tr>\n      <th>75481</th>\n      <td>16</td>\n      <td>2579608</td>\n      <td>16-120792</td>\n      <td>0</td>\n      <td>(A Boulton)</td>\n      <td>NaN</td>\n      <td>Gone Out of Business</td>\n      <td>NaN</td>\n      <td>NaN</td>\n      <td>Health Services</td>\n      <td>...</td>\n      <td>Vancouver</td>\n      <td>BC</td>\n      <td>CA</td>\n      <td>V5Z 4C2</td>\n      <td>Fairview</td>\n      <td>5.0</td>\n      <td>NaN</td>\n      <td>2019-07-21T13:49:19-07:00</td>\n      <td>{\"type\": \"Point\", \"coordinates\": [-123.1185961...</td>\n      <td>120792</td>\n    </tr>\n    <tr>\n      <th>102290</th>\n      <td>13</td>\n      <td>1792370</td>\n      <td>13-172954</td>\n      <td>0</td>\n      <td>(A Boulton)</td>\n      <td>NaN</td>\n      <td>Issued</td>\n      <td>2013-01-09T14:25:33-08:00</td>\n      <td>2013-12-31</td>\n      <td>Health Services</td>\n      <td>...</td>\n      <td>Vancouver</td>\n      <td>BC</td>\n      <td>CA</td>\n      <td>V5Z 4C2</td>\n      <td>Fairview</td>\n      <td>5.0</td>\n      <td>129.0</td>\n      <td>2019-07-21T13:49:07-07:00</td>\n      <td>{\"type\": \"Point\", \"coordinates\": [-123.1185961...</td>\n      <td>172954</td>\n    </tr>\n    <tr>\n      <th>147828</th>\n      <td>13</td>\n      <td>1800944</td>\n      <td>13-181525</td>\n      <td>0</td>\n      <td>(A Hobkirk)</td>\n      <td>Miller Thomson LLP</td>\n      <td>Issued</td>\n      <td>2013-01-11T08:44:50-08:00</td>\n      <td>2013-12-31</td>\n      <td>Office</td>\n      <td>...</td>\n      <td>Vancouver</td>\n      <td>BC</td>\n      <td>CA</td>\n      <td>V6Z 2M1</td>\n      <td>Downtown</td>\n      <td>0.0</td>\n      <td>129.0</td>\n      <td>2019-07-21T13:49:07-07:00</td>\n      <td>{\"type\": \"Point\", \"coordinates\": [-123.1215730...</td>\n      <td>181525</td>\n    </tr>\n  </tbody>\n</table>\n<p>20 rows × 25 columns</p>\n</div>"
     },
     "metadata": {},
     "execution_count": 53
    }
   ],
   "source": [
    "df.loc[df['BusinessName'].notnull()].sort_values('BusinessName').head(20)"
   ]
  },
  {
   "cell_type": "code",
   "execution_count": 5,
   "metadata": {},
   "outputs": [
    {
     "output_type": "stream",
     "name": "stdout",
     "text": [
      "<class 'pandas.core.frame.DataFrame'>\nRangeIndex: 509444 entries, 0 to 509443\nData columns (total 24 columns):\n #   Column                 Non-Null Count   Dtype  \n---  ------                 --------------   -----  \n 0   FOLDERYEAR             509444 non-null  int64  \n 1   LicenceRSN             509444 non-null  int64  \n 2   LicenceNumber          509444 non-null  object \n 3   LicenceRevisionNumber  509444 non-null  int64  \n 4   BusinessName           493514 non-null  object \n 5   BusinessTradeName      207726 non-null  object \n 6   Status                 509444 non-null  object \n 7   IssuedDate             424090 non-null  object \n 8   ExpiredDate            423765 non-null  object \n 9   BusinessType           509444 non-null  object \n 10  BusinessSubType        277373 non-null  object \n 11  Unit                   136789 non-null  object \n 12  UnitType               136748 non-null  object \n 13  House                  286350 non-null  object \n 14  Street                 286363 non-null  object \n 15  City                   508645 non-null  object \n 16  Province               508503 non-null  object \n 17  Country                494312 non-null  object \n 18  PostalCode             282009 non-null  object \n 19  LocalArea              447491 non-null  object \n 20  NumberofEmployees      509444 non-null  float64\n 21  FeePaid                429680 non-null  float64\n 22  ExtractDate            509444 non-null  object \n 23  Geom                   276450 non-null  object \ndtypes: float64(2), int64(3), object(19)\nmemory usage: 93.3+ MB\n"
     ]
    }
   ],
   "source": [
    "df.info()"
   ]
  },
  {
   "cell_type": "code",
   "execution_count": null,
   "metadata": {},
   "outputs": [],
   "source": []
  },
  {
   "cell_type": "code",
   "execution_count": 6,
   "metadata": {},
   "outputs": [
    {
     "output_type": "execute_result",
     "data": {
      "text/plain": [
       "Issued                  404179\n",
       "Pending                  42917\n",
       "Gone Out of Business     39868\n",
       "Inactive                 12187\n",
       "Cancelled                10293\n",
       "Name: Status, dtype: int64"
      ]
     },
     "metadata": {},
     "execution_count": 6
    }
   ],
   "source": [
    "df['Status'].value_counts()"
   ]
  },
  {
   "cell_type": "code",
   "execution_count": 19,
   "metadata": {},
   "outputs": [
    {
     "output_type": "execute_result",
     "data": {
      "text/plain": [
       "{'2019-07-21', '2020-01-01', '2020-11-01', '2020-11-15'}"
      ]
     },
     "metadata": {},
     "execution_count": 19
    }
   ],
   "source": [
    "set([x[:10] for x in df['ExtractDate'].unique()])"
   ]
  },
  {
   "cell_type": "code",
   "execution_count": 23,
   "metadata": {},
   "outputs": [
    {
     "output_type": "execute_result",
     "data": {
      "text/plain": [
       "extract_date  2019-07-21  2020-01-01  2020-11-01  2020-11-15\n",
       "FOLDERYEAR                                                  \n",
       "13               60915.0         NaN         NaN         NaN\n",
       "14               60581.0         NaN         NaN         NaN\n",
       "15               60938.0         NaN         NaN         NaN\n",
       "16               61394.0         NaN         NaN         NaN\n",
       "17                   NaN     60060.0         NaN         NaN\n",
       "18                   NaN         NaN     66180.0         NaN\n",
       "19                   NaN         NaN     70775.0         NaN\n",
       "20                   NaN         NaN         NaN     68601.0"
      ],
      "text/html": "<div>\n<style scoped>\n    .dataframe tbody tr th:only-of-type {\n        vertical-align: middle;\n    }\n\n    .dataframe tbody tr th {\n        vertical-align: top;\n    }\n\n    .dataframe thead th {\n        text-align: right;\n    }\n</style>\n<table border=\"1\" class=\"dataframe\">\n  <thead>\n    <tr style=\"text-align: right;\">\n      <th>extract_date</th>\n      <th>2019-07-21</th>\n      <th>2020-01-01</th>\n      <th>2020-11-01</th>\n      <th>2020-11-15</th>\n    </tr>\n    <tr>\n      <th>FOLDERYEAR</th>\n      <th></th>\n      <th></th>\n      <th></th>\n      <th></th>\n    </tr>\n  </thead>\n  <tbody>\n    <tr>\n      <th>13</th>\n      <td>60915.0</td>\n      <td>NaN</td>\n      <td>NaN</td>\n      <td>NaN</td>\n    </tr>\n    <tr>\n      <th>14</th>\n      <td>60581.0</td>\n      <td>NaN</td>\n      <td>NaN</td>\n      <td>NaN</td>\n    </tr>\n    <tr>\n      <th>15</th>\n      <td>60938.0</td>\n      <td>NaN</td>\n      <td>NaN</td>\n      <td>NaN</td>\n    </tr>\n    <tr>\n      <th>16</th>\n      <td>61394.0</td>\n      <td>NaN</td>\n      <td>NaN</td>\n      <td>NaN</td>\n    </tr>\n    <tr>\n      <th>17</th>\n      <td>NaN</td>\n      <td>60060.0</td>\n      <td>NaN</td>\n      <td>NaN</td>\n    </tr>\n    <tr>\n      <th>18</th>\n      <td>NaN</td>\n      <td>NaN</td>\n      <td>66180.0</td>\n      <td>NaN</td>\n    </tr>\n    <tr>\n      <th>19</th>\n      <td>NaN</td>\n      <td>NaN</td>\n      <td>70775.0</td>\n      <td>NaN</td>\n    </tr>\n    <tr>\n      <th>20</th>\n      <td>NaN</td>\n      <td>NaN</td>\n      <td>NaN</td>\n      <td>68601.0</td>\n    </tr>\n  </tbody>\n</table>\n</div>"
     },
     "metadata": {},
     "execution_count": 23
    }
   ],
   "source": [
    "df['extract_date'] = df['ExtractDate'].str[:10]\n",
    "df.groupby(['extract_date', 'FOLDERYEAR'])['LicenceRSN'].count().unstack(level=0)"
   ]
  },
  {
   "source": [
    "According to the documentation, `ExtractDate` is the date that the data was extracted from the source table. From the above, we can see that only the last three years were extracted recently. This means any company established in 2016 or earlier that went out of busines since July 2019 will be wrongly listed as still being active. As a result, we'll probably see a lower share of out of inactive businesses than actually exist."
   ],
   "cell_type": "markdown",
   "metadata": {}
  },
  {
   "cell_type": "code",
   "execution_count": null,
   "metadata": {},
   "outputs": [],
   "source": []
  },
  {
   "cell_type": "code",
   "execution_count": null,
   "metadata": {},
   "outputs": [],
   "source": []
  },
  {
   "cell_type": "code",
   "execution_count": 12,
   "metadata": {},
   "outputs": [
    {
     "output_type": "execute_result",
     "data": {
      "text/plain": [
       "20    68601\n",
       "19    70775\n",
       "18    66180\n",
       "17    60060\n",
       "16    61394\n",
       "15    60938\n",
       "14    60581\n",
       "13    60915\n",
       "Name: FOLDERYEAR, dtype: int64"
      ]
     },
     "metadata": {},
     "execution_count": 12
    }
   ],
   "source": [
    "df['FOLDERYEAR'].value_counts().sort_index(ascending=False)"
   ]
  },
  {
   "cell_type": "code",
   "execution_count": 30,
   "metadata": {},
   "outputs": [],
   "source": [
    "#df['IssuedDate'] = pd.to_datetime(df['IssuedDate'].str.split('T').str[0])\n",
    "df['ExpiredDate'] = pd.to_datetime(df['ExpiredDate'])"
   ]
  },
  {
   "cell_type": "code",
   "execution_count": 31,
   "metadata": {},
   "outputs": [
    {
     "name": "stdout",
     "output_type": "stream",
     "text": [
      "<class 'pandas.core.frame.DataFrame'>\n",
      "RangeIndex: 509444 entries, 0 to 509443\n",
      "Data columns (total 24 columns):\n",
      " #   Column                 Non-Null Count   Dtype         \n",
      "---  ------                 --------------   -----         \n",
      " 0   FOLDERYEAR             509444 non-null  int64         \n",
      " 1   LicenceRSN             509444 non-null  int64         \n",
      " 2   LicenceNumber          509444 non-null  object        \n",
      " 3   LicenceRevisionNumber  509444 non-null  int64         \n",
      " 4   BusinessName           493514 non-null  object        \n",
      " 5   BusinessTradeName      207726 non-null  object        \n",
      " 6   Status                 509444 non-null  object        \n",
      " 7   IssuedDate             424090 non-null  datetime64[ns]\n",
      " 8   ExpiredDate            423765 non-null  datetime64[ns]\n",
      " 9   BusinessType           509444 non-null  object        \n",
      " 10  BusinessSubType        277373 non-null  object        \n",
      " 11  Unit                   136789 non-null  object        \n",
      " 12  UnitType               136748 non-null  object        \n",
      " 13  House                  286350 non-null  object        \n",
      " 14  Street                 286363 non-null  object        \n",
      " 15  City                   508645 non-null  object        \n",
      " 16  Province               508503 non-null  object        \n",
      " 17  Country                494312 non-null  object        \n",
      " 18  PostalCode             282009 non-null  object        \n",
      " 19  LocalArea              447491 non-null  object        \n",
      " 20  NumberofEmployees      509444 non-null  float64       \n",
      " 21  FeePaid                429680 non-null  float64       \n",
      " 22  ExtractDate            509444 non-null  object        \n",
      " 23  Geom                   276450 non-null  object        \n",
      "dtypes: datetime64[ns](2), float64(2), int64(3), object(17)\n",
      "memory usage: 93.3+ MB\n"
     ]
    }
   ],
   "source": [
    "df.info()"
   ]
  },
  {
   "cell_type": "code",
   "execution_count": 12,
   "metadata": {},
   "outputs": [],
   "source": [
    "status = df.groupby('FOLDERYEAR')['Status'].value_counts()"
   ]
  },
  {
   "cell_type": "code",
   "execution_count": 13,
   "metadata": {},
   "outputs": [],
   "source": [
    "status = status.reset_index(name='count')"
   ]
  },
  {
   "cell_type": "code",
   "execution_count": 15,
   "metadata": {},
   "outputs": [
    {
     "data": {
      "text/plain": [
       "<AxesSubplot:xlabel='FOLDERYEAR'>"
      ]
     },
     "execution_count": 15,
     "metadata": {},
     "output_type": "execute_result"
    },
    {
     "data": {
      "image/png": "[encoded data removed]",
      "text/plain": [
       "<Figure size 432x288 with 1 Axes>"
      ]
     },
     "metadata": {
      "needs_background": "light"
     },
     "output_type": "display_data"
    }
   ],
   "source": [
    "status.loc[status['Status']=='Issued'].plot(x='FOLDERYEAR', y='count', kind='bar')"
   ]
  },
  {
   "cell_type": "code",
   "execution_count": 16,
   "metadata": {},
   "outputs": [
    {
     "data": {
      "text/plain": [
       "<AxesSubplot:xlabel='FOLDERYEAR'>"
      ]
     },
     "execution_count": 16,
     "metadata": {},
     "output_type": "execute_result"
    },
    {
     "data": {
      "image/png": "[encoded data removed]",
      "text/plain": [
       "<Figure size 432x288 with 1 Axes>"
      ]
     },
     "metadata": {
      "needs_background": "light"
     },
     "output_type": "display_data"
    }
   ],
   "source": [
    "status.loc[status['Status']=='Gone Out of Business'].plot(x='FOLDERYEAR', y='count', kind='bar')"
   ]
  },
  {
   "cell_type": "code",
   "execution_count": 45,
   "metadata": {},
   "outputs": [
    {
     "data": {
      "text/plain": [
       "11630"
      ]
     },
     "execution_count": 45,
     "metadata": {},
     "output_type": "execute_result"
    }
   ],
   "source": [
    "df['LicenceNumber'].duplicated().sum()"
   ]
  },
  {
   "cell_type": "code",
   "execution_count": null,
   "metadata": {},
   "outputs": [],
   "source": []
  }
 ],
 "metadata": {
  "kernelspec": {
   "display_name": "Python 3",
   "language": "python",
   "name": "python3"
  },
  "language_info": {
   "codemirror_mode": {
    "name": "ipython",
    "version": 3
   },
   "file_extension": ".py",
   "mimetype": "text/x-python",
   "name": "python",
   "nbconvert_exporter": "python",
   "pygments_lexer": "ipython3",
   "version": "3.9.1-final"
  }
 },
 "nbformat": 4,
 "nbformat_minor": 4
}