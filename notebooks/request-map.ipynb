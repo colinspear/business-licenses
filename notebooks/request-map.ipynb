{
 "cells": [
  {
   "cell_type": "markdown",
   "metadata": {},
   "source": [
    "**** _Introductory paragraph_ ****"
   ]
  },
  {
   "cell_type": "markdown",
   "metadata": {},
   "source": [
    "Requests is python's go to package for making api calls."
   ]
  },
  {
   "cell_type": "code",
   "execution_count": 1,
   "metadata": {},
   "outputs": [],
   "source": [
    "import requests\n",
    "import pandas as pd"
   ]
  },
  {
   "cell_type": "markdown",
   "metadata": {},
   "source": [
    "Let's make a request and store it as a response object (more info can be found on response objects here). I'm going to be using the business licences dataset on the City of Vancouver's Open Data portal. For now, we'll just use their dataset search:"
   ]
  },
  {
   "cell_type": "code",
   "execution_count": 104,
   "metadata": {},
   "outputs": [],
   "source": [
    "response = requests.get('https://opendata.vancouver.ca/api/records/1.0')"
   ]
  },
  {
   "cell_type": "code",
   "execution_count": 105,
   "metadata": {},
   "outputs": [
    {
     "data": {
      "text/plain": [
       "404"
      ]
     },
     "execution_count": 105,
     "metadata": {},
     "output_type": "execute_result"
    }
   ],
   "source": [
    "response.status_code"
   ]
  },
  {
   "cell_type": "markdown",
   "metadata": {},
   "source": [
    "The 404 response tells us that the program couldn't find what we were looking for. Turns out the above is just the base for the whole CoV api. We need to give the request a little more information."
   ]
  },
  {
   "cell_type": "code",
   "execution_count": 111,
   "metadata": {},
   "outputs": [
    {
     "data": {
      "text/plain": [
       "200"
      ]
     },
     "execution_count": 111,
     "metadata": {},
     "output_type": "execute_result"
    }
   ],
   "source": [
    "payload = {\n",
    "    'dataset': 'business-licences',\n",
    "    #'rows': 100\n",
    "    #'start': 1\n",
    "}\n",
    "response = requests.get('https://opendata.vancouver.ca/api/records/1.0/download/', params=payload)\n",
    "response.status_code"
   ]
  },
  {
   "cell_type": "code",
   "execution_count": 98,
   "metadata": {},
   "outputs": [],
   "source": [
    "payload = {\n",
    "    'dataset': 'business-licences',\n",
    "    'rows': 10,\n",
    "    'start': 0\n",
    "}\n",
    "\n",
    "\n",
    "def clean_coordinates(field_dict):\n",
    "    if 'geom' in field_dict.keys():\n",
    "        field_dict['x_coord'] = field_dict['geom']['coordinates'][0]\n",
    "        field_dict['y_coord'] = field_dict['geom']['coordinates'][1]\n",
    "        del field_dict['geom']\n",
    "        \n",
    "    return field_dict\n",
    "\n",
    "l = []\n",
    "while payload['start']<100:\n",
    "    response = requests.get('https://opendata.vancouver.ca/api/records/1.0/search/', params=payload)\n",
    "    records = response.json()['records']\n",
    "    fields = [clean_coordinates(f['fields']) for f in records]\n",
    "    l.extend(fields)\n",
    "    payload['start'] += 1000"
   ]
  },
  {
   "cell_type": "markdown",
   "metadata": {},
   "source": [
    "Sweet, we're in business. Let's see what the request gave us (Hint: if you want the content as a string - here it's in bytes - use the `text` method instead of the `content` method"
   ]
  },
  {
   "cell_type": "code",
   "execution_count": 100,
   "metadata": {},
   "outputs": [],
   "source": [
    "bl_data = pd.DataFrame.from_records(l)"
   ]
  },
  {
   "cell_type": "code",
   "execution_count": 103,
   "metadata": {},
   "outputs": [
    {
     "data": {
      "text/plain": [
       "Index(['province', 'expireddate', 'house', 'licencerevisionnumber', 'street',\n",
       "       'unit', 'city', 'businesstype', 'businesssubtype', 'unittype',\n",
       "       'licencersn', 'status', 'extractdate', 'numberofemployees', 'localarea',\n",
       "       'folderyear', 'businessname', 'postalcode', 'issueddate', 'country',\n",
       "       'feepaid', 'businesstradename', 'licencenumber', 'x_coord', 'y_coord'],\n",
       "      dtype='object')"
      ]
     },
     "execution_count": 103,
     "metadata": {},
     "output_type": "execute_result"
    }
   ],
   "source": [
    "bl_data.columns"
   ]
  },
  {
   "cell_type": "markdown",
   "metadata": {},
   "source": [
    "Okay, that's pretty legible. We've got the business name, location, coordinates, neighborhood, license number, expiry date... All sorts of useful information. Now how do we get all of this into a database?"
   ]
  },
  {
   "cell_type": "code",
   "execution_count": 33,
   "metadata": {},
   "outputs": [
    {
     "data": {
      "text/plain": [
       "{'province': 'BC',\n",
       " 'expireddate': '2013-12-31',\n",
       " 'house': '966',\n",
       " 'licencerevisionnumber': '00',\n",
       " 'street': 'SW MARINE DRIVE',\n",
       " 'unit': '60',\n",
       " 'city': 'Vancouver',\n",
       " 'businesstype': 'Manufacturer',\n",
       " 'businesssubtype': 'Garments',\n",
       " 'unittype': 'Unit',\n",
       " 'licencersn': '1798226',\n",
       " 'geom': {'type': 'Point',\n",
       "  'coordinates': [-123.128122611431, 49.2050691574352]},\n",
       " 'status': 'Issued',\n",
       " 'extractdate': '2019-07-21T20:49:07+00:00',\n",
       " 'numberofemployees': '5',\n",
       " 'localarea': 'Marpole',\n",
       " 'folderyear': '13',\n",
       " 'businessname': '0755089 BC Ltd',\n",
       " 'postalcode': 'V6P 5Z2',\n",
       " 'issueddate': '2013-01-26T22:55:45+00:00',\n",
       " 'country': 'CA',\n",
       " 'feepaid': 335,\n",
       " 'businesstradename': 'Embroidme Vancouver',\n",
       " 'licencenumber': '13-178807'}"
      ]
     },
     "execution_count": 33,
     "metadata": {},
     "output_type": "execute_result"
    }
   ],
   "source": [
    "records[0]['fields']"
   ]
  },
  {
   "cell_type": "code",
   "execution_count": 27,
   "metadata": {},
   "outputs": [
    {
     "data": {
      "text/plain": [
       "{'20'}"
      ]
     },
     "execution_count": 27,
     "metadata": {},
     "output_type": "execute_result"
    }
   ],
   "source": [
    "set([d['fields']['folderyear'] for d in records])"
   ]
  },
  {
   "cell_type": "code",
   "execution_count": 27,
   "metadata": {},
   "outputs": [
    {
     "name": "stdout",
     "output_type": "stream",
     "text": [
      "2013-12-31\n"
     ]
    },
    {
     "ename": "KeyError",
     "evalue": "'expireddate'",
     "output_type": "error",
     "traceback": [
      "\u001b[0;31m---------------------------------------------------------------------------\u001b[0m",
      "\u001b[0;31mKeyError\u001b[0m                                  Traceback (most recent call last)",
      "\u001b[0;32m<ipython-input-27-aa8bc664253f>\u001b[0m in \u001b[0;36m<module>\u001b[0;34m\u001b[0m\n\u001b[1;32m      1\u001b[0m \u001b[0mdates\u001b[0m \u001b[0;34m=\u001b[0m \u001b[0;34m[\u001b[0m\u001b[0;34m]\u001b[0m\u001b[0;34m\u001b[0m\u001b[0;34m\u001b[0m\u001b[0m\n\u001b[1;32m      2\u001b[0m \u001b[0;32mfor\u001b[0m \u001b[0mi\u001b[0m \u001b[0;32min\u001b[0m \u001b[0mrange\u001b[0m\u001b[0;34m(\u001b[0m\u001b[0mlen\u001b[0m\u001b[0;34m(\u001b[0m\u001b[0mrecords\u001b[0m\u001b[0;34m)\u001b[0m\u001b[0;34m)\u001b[0m\u001b[0;34m:\u001b[0m\u001b[0;34m\u001b[0m\u001b[0;34m\u001b[0m\u001b[0m\n\u001b[0;32m----> 3\u001b[0;31m     \u001b[0mprint\u001b[0m\u001b[0;34m(\u001b[0m\u001b[0mrecords\u001b[0m\u001b[0;34m[\u001b[0m\u001b[0mi\u001b[0m\u001b[0;34m]\u001b[0m\u001b[0;34m[\u001b[0m\u001b[0;34m'fields'\u001b[0m\u001b[0;34m]\u001b[0m\u001b[0;34m[\u001b[0m\u001b[0;34m'expireddate'\u001b[0m\u001b[0;34m]\u001b[0m\u001b[0;34m)\u001b[0m\u001b[0;34m\u001b[0m\u001b[0;34m\u001b[0m\u001b[0m\n\u001b[0m",
      "\u001b[0;31mKeyError\u001b[0m: 'expireddate'"
     ]
    }
   ],
   "source": [
    "dates = []\n",
    "for i in range(len(records)):\n",
    "    print(records[i]['fields']['expireddate'])"
   ]
  },
  {
   "cell_type": "code",
   "execution_count": 29,
   "metadata": {},
   "outputs": [
    {
     "data": {
      "text/plain": [
       "{'status': 'Pending',\n",
       " 'city': 'Vancouver',\n",
       " 'businesstype': 'Manufacturer',\n",
       " 'extractdate': '2019-07-21T20:49:07+00:00',\n",
       " 'numberofemployees': '2',\n",
       " 'house': '614',\n",
       " 'country': 'CA',\n",
       " 'localarea': 'Strathcona',\n",
       " 'folderyear': '13',\n",
       " 'businesssubtype': 'Other',\n",
       " 'licencerevisionnumber': '00',\n",
       " 'businesstradename': 'Saul Good Gift Co',\n",
       " 'province': 'BC',\n",
       " 'street': 'ALEXANDER ST',\n",
       " 'licencersn': '1798227',\n",
       " 'businessname': 'Saul Good Gift Co Inc',\n",
       " 'postalcode': 'V6A 1C9',\n",
       " 'geom': {'type': 'Point',\n",
       "  'coordinates': [-123.090879404489, 49.2836676278532]},\n",
       " 'licencenumber': '13-178808'}"
      ]
     },
     "execution_count": 29,
     "metadata": {},
     "output_type": "execute_result"
    }
   ],
   "source": [
    "records[1]['fields']"
   ]
  }
 ],
 "metadata": {
  "kernelspec": {
   "display_name": "Python 3",
   "language": "python",
   "name": "python3"
  },
  "language_info": {
   "codemirror_mode": {
    "name": "ipython",
    "version": 3
   },
   "file_extension": ".py",
   "mimetype": "text/x-python",
   "name": "python",
   "nbconvert_exporter": "python",
   "pygments_lexer": "ipython3",
   "version": "3.8.6"
  }
 },
 "nbformat": 4,
 "nbformat_minor": 4
}
