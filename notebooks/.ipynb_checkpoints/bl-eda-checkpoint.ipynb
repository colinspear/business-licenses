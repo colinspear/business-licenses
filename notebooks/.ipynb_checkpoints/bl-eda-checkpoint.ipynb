{
 "cells": [
  {
   "cell_type": "code",
   "execution_count": 6,
   "metadata": {},
   "outputs": [],
   "source": [
    "import pandas as pd"
   ]
  },
  {
   "cell_type": "code",
   "execution_count": 7,
   "metadata": {},
   "outputs": [],
   "source": [
    "df = pd.read_csv('../data/2020.11.15-business-licences.csv', sep=';')"
   ]
  },
  {
   "cell_type": "code",
   "execution_count": 28,
   "metadata": {},
   "outputs": [
    {
     "data": {
      "text/html": [
       "<div>\n",
       "<style scoped>\n",
       "    .dataframe tbody tr th:only-of-type {\n",
       "        vertical-align: middle;\n",
       "    }\n",
       "\n",
       "    .dataframe tbody tr th {\n",
       "        vertical-align: top;\n",
       "    }\n",
       "\n",
       "    .dataframe thead th {\n",
       "        text-align: right;\n",
       "    }\n",
       "</style>\n",
       "<table border=\"1\" class=\"dataframe\">\n",
       "  <thead>\n",
       "    <tr style=\"text-align: right;\">\n",
       "      <th></th>\n",
       "      <th>FOLDERYEAR</th>\n",
       "      <th>LicenceRSN</th>\n",
       "      <th>LicenceNumber</th>\n",
       "      <th>LicenceRevisionNumber</th>\n",
       "      <th>BusinessName</th>\n",
       "      <th>BusinessTradeName</th>\n",
       "      <th>Status</th>\n",
       "      <th>IssuedDate</th>\n",
       "      <th>ExpiredDate</th>\n",
       "      <th>BusinessType</th>\n",
       "      <th>...</th>\n",
       "      <th>Street</th>\n",
       "      <th>City</th>\n",
       "      <th>Province</th>\n",
       "      <th>Country</th>\n",
       "      <th>PostalCode</th>\n",
       "      <th>LocalArea</th>\n",
       "      <th>NumberofEmployees</th>\n",
       "      <th>FeePaid</th>\n",
       "      <th>ExtractDate</th>\n",
       "      <th>Geom</th>\n",
       "    </tr>\n",
       "  </thead>\n",
       "  <tbody>\n",
       "    <tr>\n",
       "      <th>0</th>\n",
       "      <td>14</td>\n",
       "      <td>2118891</td>\n",
       "      <td>14-106531</td>\n",
       "      <td>0</td>\n",
       "      <td>Gill Framing Co Ltd</td>\n",
       "      <td>NaN</td>\n",
       "      <td>Issued</td>\n",
       "      <td>2013-12-24</td>\n",
       "      <td>2014-12-31</td>\n",
       "      <td>Contractor</td>\n",
       "      <td>...</td>\n",
       "      <td>NaN</td>\n",
       "      <td>Vancouver</td>\n",
       "      <td>BC</td>\n",
       "      <td>CA</td>\n",
       "      <td>NaN</td>\n",
       "      <td>Kensington-Cedar Cottage</td>\n",
       "      <td>0.0</td>\n",
       "      <td>159.0</td>\n",
       "      <td>2019-07-21T13:49:10-07:00</td>\n",
       "      <td>NaN</td>\n",
       "    </tr>\n",
       "    <tr>\n",
       "      <th>1</th>\n",
       "      <td>14</td>\n",
       "      <td>2118895</td>\n",
       "      <td>14-106535</td>\n",
       "      <td>0</td>\n",
       "      <td>ITC Residential BC II Inc</td>\n",
       "      <td>NaN</td>\n",
       "      <td>Inactive</td>\n",
       "      <td>2013-12-04</td>\n",
       "      <td>2014-12-31</td>\n",
       "      <td>Contractor</td>\n",
       "      <td>...</td>\n",
       "      <td>HOWE ST</td>\n",
       "      <td>Vancouver</td>\n",
       "      <td>BC</td>\n",
       "      <td>CA</td>\n",
       "      <td>V6Z 2N1</td>\n",
       "      <td>Downtown</td>\n",
       "      <td>0.0</td>\n",
       "      <td>159.0</td>\n",
       "      <td>2019-07-21T13:49:10-07:00</td>\n",
       "      <td>{\"type\": \"Point\", \"coordinates\": [-123.1320030...</td>\n",
       "    </tr>\n",
       "    <tr>\n",
       "      <th>2</th>\n",
       "      <td>14</td>\n",
       "      <td>2118901</td>\n",
       "      <td>14-106541</td>\n",
       "      <td>0</td>\n",
       "      <td>Quoc Khanh Nguyen (Quoc Nguyen)</td>\n",
       "      <td>K &amp; H Renovation</td>\n",
       "      <td>Gone Out of Business</td>\n",
       "      <td>NaT</td>\n",
       "      <td>NaN</td>\n",
       "      <td>Contractor</td>\n",
       "      <td>...</td>\n",
       "      <td>NaN</td>\n",
       "      <td>Vancouver</td>\n",
       "      <td>BC</td>\n",
       "      <td>CA</td>\n",
       "      <td>NaN</td>\n",
       "      <td>Hastings-Sunrise</td>\n",
       "      <td>0.0</td>\n",
       "      <td>NaN</td>\n",
       "      <td>2019-07-21T13:49:10-07:00</td>\n",
       "      <td>NaN</td>\n",
       "    </tr>\n",
       "    <tr>\n",
       "      <th>3</th>\n",
       "      <td>14</td>\n",
       "      <td>2118906</td>\n",
       "      <td>14-106546</td>\n",
       "      <td>0</td>\n",
       "      <td>Evershine Enterprises Ltd</td>\n",
       "      <td>NaN</td>\n",
       "      <td>Issued</td>\n",
       "      <td>2014-02-13</td>\n",
       "      <td>2014-12-31</td>\n",
       "      <td>Contractor</td>\n",
       "      <td>...</td>\n",
       "      <td>NaN</td>\n",
       "      <td>Vancouver</td>\n",
       "      <td>BC</td>\n",
       "      <td>CA</td>\n",
       "      <td>NaN</td>\n",
       "      <td>Sunset</td>\n",
       "      <td>1.0</td>\n",
       "      <td>199.0</td>\n",
       "      <td>2019-07-21T13:49:10-07:00</td>\n",
       "      <td>NaN</td>\n",
       "    </tr>\n",
       "    <tr>\n",
       "      <th>4</th>\n",
       "      <td>14</td>\n",
       "      <td>2118912</td>\n",
       "      <td>14-106552</td>\n",
       "      <td>0</td>\n",
       "      <td>Zhao Peng Li (Zhao Li)</td>\n",
       "      <td>NaN</td>\n",
       "      <td>Issued</td>\n",
       "      <td>2013-12-13</td>\n",
       "      <td>2014-12-31</td>\n",
       "      <td>Contractor</td>\n",
       "      <td>...</td>\n",
       "      <td>NaN</td>\n",
       "      <td>Vancouver</td>\n",
       "      <td>BC</td>\n",
       "      <td>CA</td>\n",
       "      <td>NaN</td>\n",
       "      <td>Kensington-Cedar Cottage</td>\n",
       "      <td>0.0</td>\n",
       "      <td>159.0</td>\n",
       "      <td>2019-07-21T13:49:10-07:00</td>\n",
       "      <td>NaN</td>\n",
       "    </tr>\n",
       "  </tbody>\n",
       "</table>\n",
       "<p>5 rows × 24 columns</p>\n",
       "</div>"
      ],
      "text/plain": [
       "   FOLDERYEAR  LicenceRSN LicenceNumber  LicenceRevisionNumber  \\\n",
       "0          14     2118891     14-106531                      0   \n",
       "1          14     2118895     14-106535                      0   \n",
       "2          14     2118901     14-106541                      0   \n",
       "3          14     2118906     14-106546                      0   \n",
       "4          14     2118912     14-106552                      0   \n",
       "\n",
       "                      BusinessName BusinessTradeName                Status  \\\n",
       "0              Gill Framing Co Ltd               NaN                Issued   \n",
       "1        ITC Residential BC II Inc               NaN              Inactive   \n",
       "2  Quoc Khanh Nguyen (Quoc Nguyen)  K & H Renovation  Gone Out of Business   \n",
       "3        Evershine Enterprises Ltd               NaN                Issued   \n",
       "4           Zhao Peng Li (Zhao Li)               NaN                Issued   \n",
       "\n",
       "  IssuedDate ExpiredDate BusinessType  ...   Street       City Province  \\\n",
       "0 2013-12-24  2014-12-31   Contractor  ...      NaN  Vancouver       BC   \n",
       "1 2013-12-04  2014-12-31   Contractor  ...  HOWE ST  Vancouver       BC   \n",
       "2        NaT         NaN   Contractor  ...      NaN  Vancouver       BC   \n",
       "3 2014-02-13  2014-12-31   Contractor  ...      NaN  Vancouver       BC   \n",
       "4 2013-12-13  2014-12-31   Contractor  ...      NaN  Vancouver       BC   \n",
       "\n",
       "  Country PostalCode                 LocalArea NumberofEmployees FeePaid  \\\n",
       "0      CA        NaN  Kensington-Cedar Cottage               0.0   159.0   \n",
       "1      CA    V6Z 2N1                  Downtown               0.0   159.0   \n",
       "2      CA        NaN          Hastings-Sunrise               0.0     NaN   \n",
       "3      CA        NaN                    Sunset               1.0   199.0   \n",
       "4      CA        NaN  Kensington-Cedar Cottage               0.0   159.0   \n",
       "\n",
       "                 ExtractDate  \\\n",
       "0  2019-07-21T13:49:10-07:00   \n",
       "1  2019-07-21T13:49:10-07:00   \n",
       "2  2019-07-21T13:49:10-07:00   \n",
       "3  2019-07-21T13:49:10-07:00   \n",
       "4  2019-07-21T13:49:10-07:00   \n",
       "\n",
       "                                                Geom  \n",
       "0                                                NaN  \n",
       "1  {\"type\": \"Point\", \"coordinates\": [-123.1320030...  \n",
       "2                                                NaN  \n",
       "3                                                NaN  \n",
       "4                                                NaN  \n",
       "\n",
       "[5 rows x 24 columns]"
      ]
     },
     "execution_count": 28,
     "metadata": {},
     "output_type": "execute_result"
    }
   ],
   "source": [
    "df.head()"
   ]
  },
  {
   "cell_type": "code",
   "execution_count": 9,
   "metadata": {},
   "outputs": [
    {
     "data": {
      "text/plain": [
       "Index(['FOLDERYEAR', 'LicenceRSN', 'LicenceNumber', 'LicenceRevisionNumber',\n",
       "       'BusinessName', 'BusinessTradeName', 'Status', 'IssuedDate',\n",
       "       'ExpiredDate', 'BusinessType', 'BusinessSubType', 'Unit', 'UnitType',\n",
       "       'House', 'Street', 'City', 'Province', 'Country', 'PostalCode',\n",
       "       'LocalArea', 'NumberofEmployees', 'FeePaid', 'ExtractDate', 'Geom'],\n",
       "      dtype='object')"
      ]
     },
     "execution_count": 9,
     "metadata": {},
     "output_type": "execute_result"
    }
   ],
   "source": [
    "df.columns"
   ]
  },
  {
   "cell_type": "code",
   "execution_count": 30,
   "metadata": {},
   "outputs": [],
   "source": [
    "#df['IssuedDate'] = pd.to_datetime(df['IssuedDate'].str.split('T').str[0])\n",
    "df['ExpiredDate'] = pd.to_datetime(df['ExpiredDate'])"
   ]
  },
  {
   "cell_type": "code",
   "execution_count": 31,
   "metadata": {},
   "outputs": [
    {
     "name": "stdout",
     "output_type": "stream",
     "text": [
      "<class 'pandas.core.frame.DataFrame'>\n",
      "RangeIndex: 509444 entries, 0 to 509443\n",
      "Data columns (total 24 columns):\n",
      " #   Column                 Non-Null Count   Dtype         \n",
      "---  ------                 --------------   -----         \n",
      " 0   FOLDERYEAR             509444 non-null  int64         \n",
      " 1   LicenceRSN             509444 non-null  int64         \n",
      " 2   LicenceNumber          509444 non-null  object        \n",
      " 3   LicenceRevisionNumber  509444 non-null  int64         \n",
      " 4   BusinessName           493514 non-null  object        \n",
      " 5   BusinessTradeName      207726 non-null  object        \n",
      " 6   Status                 509444 non-null  object        \n",
      " 7   IssuedDate             424090 non-null  datetime64[ns]\n",
      " 8   ExpiredDate            423765 non-null  datetime64[ns]\n",
      " 9   BusinessType           509444 non-null  object        \n",
      " 10  BusinessSubType        277373 non-null  object        \n",
      " 11  Unit                   136789 non-null  object        \n",
      " 12  UnitType               136748 non-null  object        \n",
      " 13  House                  286350 non-null  object        \n",
      " 14  Street                 286363 non-null  object        \n",
      " 15  City                   508645 non-null  object        \n",
      " 16  Province               508503 non-null  object        \n",
      " 17  Country                494312 non-null  object        \n",
      " 18  PostalCode             282009 non-null  object        \n",
      " 19  LocalArea              447491 non-null  object        \n",
      " 20  NumberofEmployees      509444 non-null  float64       \n",
      " 21  FeePaid                429680 non-null  float64       \n",
      " 22  ExtractDate            509444 non-null  object        \n",
      " 23  Geom                   276450 non-null  object        \n",
      "dtypes: datetime64[ns](2), float64(2), int64(3), object(17)\n",
      "memory usage: 93.3+ MB\n"
     ]
    }
   ],
   "source": [
    "df.info()"
   ]
  },
  {
   "cell_type": "code",
   "execution_count": 12,
   "metadata": {},
   "outputs": [],
   "source": [
    "status = df.groupby('FOLDERYEAR')['Status'].value_counts()"
   ]
  },
  {
   "cell_type": "code",
   "execution_count": 13,
   "metadata": {},
   "outputs": [],
   "source": [
    "status = status.reset_index(name='count')"
   ]
  },
  {
   "cell_type": "code",
   "execution_count": 15,
   "metadata": {},
   "outputs": [
    {
     "data": {
      "text/plain": [
       "<AxesSubplot:xlabel='FOLDERYEAR'>"
      ]
     },
     "execution_count": 15,
     "metadata": {},
     "output_type": "execute_result"
    },
    {
     "data": {
      "image/png": "[encoded data removed]",
      "text/plain": [
       "<Figure size 432x288 with 1 Axes>"
      ]
     },
     "metadata": {
      "needs_background": "light"
     },
     "output_type": "display_data"
    }
   ],
   "source": [
    "status.loc[status['Status']=='Issued'].plot(x='FOLDERYEAR', y='count', kind='bar')"
   ]
  },
  {
   "cell_type": "code",
   "execution_count": 16,
   "metadata": {},
   "outputs": [
    {
     "data": {
      "text/plain": [
       "<AxesSubplot:xlabel='FOLDERYEAR'>"
      ]
     },
     "execution_count": 16,
     "metadata": {},
     "output_type": "execute_result"
    },
    {
     "data": {
      "image/png": "[encoded data removed]",
      "text/plain": [
       "<Figure size 432x288 with 1 Axes>"
      ]
     },
     "metadata": {
      "needs_background": "light"
     },
     "output_type": "display_data"
    }
   ],
   "source": [
    "status.loc[status['Status']=='Gone Out of Business'].plot(x='FOLDERYEAR', y='count', kind='bar')"
   ]
  },
  {
   "cell_type": "code",
   "execution_count": 45,
   "metadata": {},
   "outputs": [
    {
     "data": {
      "text/plain": [
       "11630"
      ]
     },
     "execution_count": 45,
     "metadata": {},
     "output_type": "execute_result"
    }
   ],
   "source": [
    "df['LicenceNumber'].duplicated().sum()"
   ]
  },
  {
   "cell_type": "code",
   "execution_count": null,
   "metadata": {},
   "outputs": [],
   "source": []
  }
 ],
 "metadata": {
  "kernelspec": {
   "display_name": "Python 3",
   "language": "python",
   "name": "python3"
  },
  "language_info": {
   "codemirror_mode": {
    "name": "ipython",
    "version": 3
   },
   "file_extension": ".py",
   "mimetype": "text/x-python",
   "name": "python",
   "nbconvert_exporter": "python",
   "pygments_lexer": "ipython3",
   "version": "3.8.6"
  }
 },
 "nbformat": 4,
 "nbformat_minor": 4
}
